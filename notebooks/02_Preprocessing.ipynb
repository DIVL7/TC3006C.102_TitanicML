{
 "cells": [
  {
   "cell_type": "markdown",
   "id": "53107e14",
   "metadata": {},
   "source": [
    "# 02 — Preprocessing: Pipeline común para LR, RF, XGB, SVM\n",
    "\n",
    "**Objetivo:** construir y persistir un *pipeline* de preprocesamiento **único** para todos los modelos e hipótesis.\n",
    "- Ingeniería de variables (`engineer_basic_features`)\n",
    "- Imputación (num=cént. *median*, cat=*most frequent*)\n",
    "- Escalado (StandardScaler) para modelos lineales/SVM\n",
    "- One-Hot Encoding en categóricas (handle_unknown='ignore')\n",
    "- Transformación `Fare_log`\n",
    "- Guardar: `data/processed/preprocessing_pipeline.pkl` y `data/processed/feature_definitions.json`"
   ]
  },
  {
   "cell_type": "code",
   "execution_count": 1,
   "id": "5c9f89a8",
   "metadata": {},
   "outputs": [
    {
     "name": "stdout",
     "output_type": "stream",
     "text": [
      "Project root: c:\\Users\\luigu\\OneDrive\\Escritorio\\Titanic_MLProject\n"
     ]
    }
   ],
   "source": [
    "import sys, os\n",
    "from pathlib import Path\n",
    "\n",
    "candidates = [Path.cwd(), Path.cwd().parent, Path.cwd().parent.parent]\n",
    "PROJECT_ROOT = None\n",
    "for c in candidates:\n",
    "    if (c / \"src\").exists():\n",
    "        PROJECT_ROOT = c\n",
    "        break\n",
    "if PROJECT_ROOT is None:\n",
    "    raise RuntimeError(\"No se encontró la carpeta 'src' en niveles superiores.\")\n",
    "sys.path.insert(0, str(PROJECT_ROOT))\n",
    "os.environ[\"PYTHONPATH\"] = str(PROJECT_ROOT) + os.pathsep + os.environ.get(\"PYTHONPATH\", \"\")\n",
    "print(\"Project root:\", PROJECT_ROOT)"
   ]
  },
  {
   "cell_type": "code",
   "execution_count": 2,
   "id": "ae67c463",
   "metadata": {},
   "outputs": [],
   "source": [
    "import joblib\n",
    "import pandas as pd\n",
    "\n",
    "from src.utils import p, read_csv, ensure_dirs, save_json\n",
    "from src.preprocessing import build_preprocessing_pipeline, get_feature_definitions\n",
    "\n",
    "DATA_RAW = p(\"data\", \"raw\", \"Titanic-Dataset.csv\")\n",
    "PIPE_OUT = p(\"data\", \"processed\", \"preprocessing_pipeline.pkl\")\n",
    "FEAT_JSON = p(\"data\", \"processed\", \"feature_definitions.json\")\n",
    "\n",
    "ensure_dirs()"
   ]
  },
  {
   "cell_type": "code",
   "execution_count": 3,
   "id": "8bb3d3f6",
   "metadata": {},
   "outputs": [
    {
     "name": "stdout",
     "output_type": "stream",
     "text": [
      "Guardado: C:\\Users\\luigu\\OneDrive\\Escritorio\\Titanic_MLProject\\data\\processed\\preprocessing_pipeline.pkl\n"
     ]
    }
   ],
   "source": [
    "# Cargar muestra\n",
    "df_raw = read_csv(DATA_RAW)\n",
    "\n",
    "# Construir pipeline\n",
    "preproc = build_preprocessing_pipeline(df_raw)\n",
    "\n",
    "# Ajuste (para que guarde imputadores, categorías OHE, medias/DEs, etc.)\n",
    "_ = preproc.fit(df_raw)\n",
    "\n",
    "# Persistir\n",
    "joblib.dump(preproc, PIPE_OUT)\n",
    "print(\"Guardado:\", PIPE_OUT)"
   ]
  },
  {
   "cell_type": "code",
   "execution_count": 4,
   "id": "c8fdabcc",
   "metadata": {},
   "outputs": [
    {
     "name": "stdout",
     "output_type": "stream",
     "text": [
      "Guardado: C:\\Users\\luigu\\OneDrive\\Escritorio\\Titanic_MLProject\\data\\processed\\feature_definitions.json\n"
     ]
    }
   ],
   "source": [
    "feat_defs = get_feature_definitions()\n",
    "\n",
    "feat_defs[\"Title\"] = {\n",
    "    \"description\": \"Título extraído del nombre\",\n",
    "    \"type\": \"categorical\",\n",
    "    \"creation_method\": \"regex extraction (agrupado en {Mr, Mrs, Miss, Master, Officer, Royalty})\",\n",
    "    \"missing_handling\": \"none\",\n",
    "    \"values\": [\"Mr\", \"Mrs\", \"Miss\", \"Master\", \"Officer\", \"Royalty\"]\n",
    "}\n",
    "\n",
    "save_json(feat_defs, FEAT_JSON)\n",
    "print(\"Guardado:\", FEAT_JSON)"
   ]
  },
  {
   "cell_type": "code",
   "execution_count": 5,
   "id": "96fda676",
   "metadata": {},
   "outputs": [
    {
     "name": "stdout",
     "output_type": "stream",
     "text": [
      "Shape transform: (891, 31)\n"
     ]
    }
   ],
   "source": [
    "# Transform de ejemplo para verificar salida (matriz lista para modelos)\n",
    "X_mat = preproc.transform(df_raw)\n",
    "print(\"Shape transform:\", X_mat.shape)"
   ]
  }
 ],
 "metadata": {
  "kernelspec": {
   "display_name": "base",
   "language": "python",
   "name": "python3"
  },
  "language_info": {
   "codemirror_mode": {
    "name": "ipython",
    "version": 3
   },
   "file_extension": ".py",
   "mimetype": "text/x-python",
   "name": "python",
   "nbconvert_exporter": "python",
   "pygments_lexer": "ipython3",
   "version": "3.13.5"
  }
 },
 "nbformat": 4,
 "nbformat_minor": 5
}
